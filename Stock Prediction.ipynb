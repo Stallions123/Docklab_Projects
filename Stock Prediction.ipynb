{
 "cells": [
  {
   "cell_type": "code",
   "execution_count": 2,
   "id": "bd38b7d5",
   "metadata": {},
   "outputs": [],
   "source": [
    "#Loading the data\n",
    "import numpy as np\n",
    "import matplotlib.pyplot as plt\n",
    "import pandas as pd\n",
    "import pandas_datareader as web\n",
    "import datetime as dt\n",
    "\n",
    "from sklearn.preprocessing import MinMaxScaler\n",
    "from keras import Sequential\n",
    "from keras.layers import Dense,Dropout,LSTM"
   ]
  },
  {
   "cell_type": "code",
   "execution_count": 3,
   "id": "4e200104",
   "metadata": {},
   "outputs": [],
   "source": [
    "#Load Data\n",
    "company = 'FB'"
   ]
  },
  {
   "cell_type": "code",
   "execution_count": 4,
   "id": "756d6802",
   "metadata": {},
   "outputs": [],
   "source": [
    "start = dt.datetime(2012,1,1)\n",
    "end = dt.datetime(2020,1,1)\n",
    "\n",
    "data  = web.DataReader(company,'yahoo',start,end)"
   ]
  },
  {
   "cell_type": "code",
   "execution_count": 24,
   "id": "04c0d6e0",
   "metadata": {},
   "outputs": [
    {
     "name": "stdout",
     "output_type": "stream",
     "text": [
      "Epoch 1/25\n",
      "59/59 [==============================] - 6s 44ms/step - loss: 0.0267\n",
      "Epoch 2/25\n",
      "59/59 [==============================] - 3s 44ms/step - loss: 0.0039\n",
      "Epoch 3/25\n",
      "59/59 [==============================] - 2s 38ms/step - loss: 0.0041\n",
      "Epoch 4/25\n",
      "59/59 [==============================] - 2s 36ms/step - loss: 0.0037\n",
      "Epoch 5/25\n",
      "59/59 [==============================] - 2s 38ms/step - loss: 0.0033\n",
      "Epoch 6/25\n",
      "59/59 [==============================] - 2s 36ms/step - loss: 0.0032\n",
      "Epoch 7/25\n",
      "59/59 [==============================] - 2s 36ms/step - loss: 0.0034\n",
      "Epoch 8/25\n",
      "59/59 [==============================] - 2s 39ms/step - loss: 0.0030\n",
      "Epoch 9/25\n",
      "59/59 [==============================] - 2s 39ms/step - loss: 0.0027\n",
      "Epoch 10/25\n",
      "59/59 [==============================] - 2s 38ms/step - loss: 0.0028\n",
      "Epoch 11/25\n",
      "59/59 [==============================] - 3s 55ms/step - loss: 0.0028\n",
      "Epoch 12/25\n",
      "59/59 [==============================] - 4s 74ms/step - loss: 0.0027: 0s - loss: 0.002\n",
      "Epoch 13/25\n",
      "59/59 [==============================] - 3s 54ms/step - loss: 0.0029\n",
      "Epoch 14/25\n",
      "59/59 [==============================] - 3s 48ms/step - loss: 0.0026\n",
      "Epoch 15/25\n",
      "59/59 [==============================] - 2s 41ms/step - loss: 0.0028\n",
      "Epoch 16/25\n",
      "59/59 [==============================] - 2s 36ms/step - loss: 0.0028\n",
      "Epoch 17/25\n",
      "59/59 [==============================] - 2s 36ms/step - loss: 0.0023\n",
      "Epoch 18/25\n",
      "59/59 [==============================] - 2s 38ms/step - loss: 0.0027\n",
      "Epoch 19/25\n",
      "59/59 [==============================] - 2s 38ms/step - loss: 0.0021\n",
      "Epoch 20/25\n",
      "59/59 [==============================] - 2s 39ms/step - loss: 0.0024\n",
      "Epoch 21/25\n",
      "59/59 [==============================] - 2s 38ms/step - loss: 0.0026\n",
      "Epoch 22/25\n",
      "59/59 [==============================] - 2s 41ms/step - loss: 0.0021\n",
      "Epoch 23/25\n",
      "59/59 [==============================] - 2s 38ms/step - loss: 0.0027\n",
      "Epoch 24/25\n",
      "59/59 [==============================] - 2s 38ms/step - loss: 0.0021\n",
      "Epoch 25/25\n",
      "59/59 [==============================] - 2s 38ms/step - loss: 0.0021\n"
     ]
    }
   ],
   "source": [
    "#Prepare Data\n",
    "scaler = MinMaxScaler(feature_range=(0,1))\n",
    "scaled_data = scaler.fit_transform(data[\"Close\"].values.reshape(-1,1))\n",
    "\n",
    "prediction_days = 60\n",
    "x_train = []\n",
    "y_train = []\n",
    "\n",
    "for x in range(prediction_days,len(scaled_data)):#60 - 1917 = 1857\n",
    "    x_train.append(scaled_data[x-prediction_days:x,0])\n",
    "    y_train.append(scaled_data[x,0])\n",
    "    \n",
    "x_train,y_train = np.array(x_train),np.array(y_train)\n",
    "x_train = np.reshape(x_train,(x_train.shape[0],x_train.shape[1],1))\n",
    "\n",
    "#Build the dataset\n",
    "model = Sequential()\n",
    "\n",
    "model.add(LSTM(units = 50, return_sequences = True,input_shape=(x_train.shape[1],1)))\n",
    "model.add(Dropout(0.2))\n",
    "model.add(LSTM(units = 50, return_sequences = True))\n",
    "model.add(Dropout(0.2))\n",
    "model.add(LSTM(units = 50))                                                           \n",
    "model.add(Dropout(0.2))\n",
    "model.add(Dense(units=1))#Prediction of the nest class\n",
    "\n",
    "model.compile(optimizer='adam',loss='mean_squared_error')\n",
    "model.fit(x_train,y_train,epochs=25,batch_size=32)\n",
    "\n",
    "\n",
    "#test the model accuracy on the existing data\n",
    "test_start = dt.datetime(2020,1,1)\n",
    "test_end = dt.datetime.now()\n",
    "\n",
    "test_data  = web.DataReader(company,'yahoo',test_start,test_end)\n",
    "actual_prices = test_data['Close'].values\n",
    "\n",
    "total_dataset = pd.concat((data['Close'],test_data['Close']))\n",
    "\n",
    "model_inputs = total_dataset[len(total_dataset)-len(test_data)-prediction_days:].values#1857-2395\n",
    "\n",
    "model_inputs = model_inputs.reshape(-1,1)\n",
    "\n",
    "model_inputs = scaler.transform(model_inputs)\n",
    "\n",
    "#Make predictions on test data\n",
    "x_test =[]\n",
    "\n",
    "for x in range(prediction_days , len(model_inputs)):\n",
    "    x_test.append(model_inputs[x-prediction_days:x,0])\n",
    "x_test = np.array(x_test)\n",
    "\n",
    "\n",
    "x_test = np.reshape(x_test,(x_test.shape[0],x_test.shape[1],1))\n",
    "\n",
    "predicted_prices = model.predict(x_test)\n",
    "\n",
    "predicted_prices = scaler.inverse_transform(predicted_prices)\n",
    "\n",
    "\n",
    "\n"
   ]
  },
  {
   "cell_type": "code",
   "execution_count": 28,
   "id": "92854137",
   "metadata": {},
   "outputs": [
    {
     "data": {
      "text/plain": [
       "(538, 1)"
      ]
     },
     "execution_count": 28,
     "metadata": {},
     "output_type": "execute_result"
    }
   ],
   "source": [
    "model_inputs.shape"
   ]
  },
  {
   "cell_type": "code",
   "execution_count": 25,
   "id": "a64145f5",
   "metadata": {},
   "outputs": [
    {
     "data": {
      "image/png": "[encoded data removed]",
      "text/plain": [
       "<Figure size 432x288 with 1 Axes>"
      ]
     },
     "metadata": {
      "needs_background": "light"
     },
     "output_type": "display_data"
    }
   ],
   "source": [
    "#Plot the test Predictions\n",
    "plt.plot(actual_prices, color=\"black\",label=f\"Actual {company} Prices\")\n",
    "plt.plot(predicted_prices, color='green', label=f\"Predicted {company} Prices\")\n",
    "plt.title(f\"{company} Share Price\")\n",
    "plt.xlabel('Time')\n",
    "plt.ylabel(f'{company} Share price')\n",
    "plt.legend()\n",
    "plt.show()"
   ]
  },
  {
   "cell_type": "code",
   "execution_count": 39,
   "id": "21cbb544",
   "metadata": {},
   "outputs": [
    {
     "name": "stdout",
     "output_type": "stream",
     "text": [
      "Prediction: [[312.11682]]\n"
     ]
    }
   ],
   "source": [
    "#Predict Next Day\n",
    "\n",
    "real_data = [model_inputs[len(model_inputs)+2- prediction_days:len(model_inputs+1),0]]\n",
    "real_data = np.array(real_data)\n",
    "real_data = np.reshape(real_data,(real_data.shape[0],real_data.shape[1],1))\n",
    "\n",
    "prediction = model.predict(real_data)\n",
    "\n",
    "prediction = scaler.inverse_transform(prediction)\n",
    "\n",
    "print(\"Prediction for the 60th day:\",prediction)"
   ]
  },
  {
   "cell_type": "code",
   "execution_count": null,
   "id": "c1eabac4",
   "metadata": {},
   "outputs": [],
   "source": []
  }
 ],
 "metadata": {
  "kernelspec": {
   "display_name": "Python 3",
   "language": "python",
   "name": "python3"
  },
  "language_info": {
   "codemirror_mode": {
    "name": "ipython",
    "version": 3
   },
   "file_extension": ".py",
   "mimetype": "text/x-python",
   "name": "python",
   "nbconvert_exporter": "python",
   "pygments_lexer": "ipython3",
   "version": "3.8.8"
  }
 },
 "nbformat": 4,
 "nbformat_minor": 5
}
